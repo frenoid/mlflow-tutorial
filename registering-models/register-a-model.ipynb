{
 "cells": [
  {
   "cell_type": "code",
   "execution_count": null,
   "id": "8bc405a8-c139-4ae4-849c-b457dcef3c20",
   "metadata": {
    "tags": []
   },
   "outputs": [],
   "source": [
    "# Set credentials\n",
    "import os\n",
    "\n",
    "os.environ[\"MLFLOW_TRACKING_URI\"] = \"http://mlflow.mlnow.frenoid.com:30080/\"\n",
    "os.environ[\"MLFLOW_TRACKING_USERNAME\"] = \"<>\"\n",
    "os.environ[\"MLFLOW_TRACKING_PASSWORD\"] = \"<>\""
   ]
  },
  {
   "cell_type": "code",
   "execution_count": null,
   "id": "f0d6c931-8764-456d-be9f-7436b1d0dff2",
   "metadata": {
    "tags": []
   },
   "outputs": [],
   "source": [
    "# This uses the mlflow.<model_flavour>.log_model() method to log a model to the registry\n",
    "from sklearn.datasets import make_regression\n",
    "from sklearn.ensemble import RandomForestRegressor\n",
    "from sklearn.metrics import mean_squared_error\n",
    "from sklearn.model_selection import train_test_split\n",
    "\n",
    "import mlflow\n",
    "import mlflow.sklearn\n",
    "from mlflow.models import infer_signature\n",
    "\n",
    "\n",
    "# This method works best using env to get credentials\n",
    "with mlflow.start_run() as run:\n",
    "    X, y = make_regression(n_features=4, n_informative=2, random_state=0, shuffle=False)\n",
    "    X_train, X_test, y_train, y_test = train_test_split(\n",
    "        X, y, test_size=0.2, random_state=42\n",
    "    )\n",
    "    params = {\"max_depth\": 2, \"random_state\": 42}\n",
    "    model = RandomForestRegressor(**params)\n",
    "    model.fit(X_train, y_train)\n",
    "\n",
    "    # Infer the model signature\n",
    "    y_pred = model.predict(X_test)\n",
    "    signature = infer_signature(X_test, y_pred)\n",
    "\n",
    "    # Log parameters and metrics using the MLflow APIs\n",
    "    mlflow.log_params(params)\n",
    "    mlflow.log_metrics({\"mse\": mean_squared_error(y_test, y_pred)})\n",
    "\n",
    "    # Log the sklearn model and register as version 1\n",
    "    mlflow.sklearn.log_model(\n",
    "        sk_model=model,\n",
    "        artifact_path=\"sklearn-model\",\n",
    "        signature=signature,\n",
    "        registered_model_name=\"sk-learn-random-forest-reg-model\",\n",
    "    )"
   ]
  },
  {
   "cell_type": "code",
   "execution_count": null,
   "id": "ec3f8434-272c-41dc-97f7-29acd529419b",
   "metadata": {
    "tags": []
   },
   "outputs": [],
   "source": [
    "# This demonstartes how to set and delete aliases on models\n",
    "from mlflow import MlflowClient\n",
    "\n",
    "client = MlflowClient()\n",
    "\n",
    "# Create \"Champion\" alias for version 1 of model \"sk-learn-random-forest-reg-model\"\n",
    "client.set_registered_model_alias(\"sk-learn-random-forest-reg-model\", \"Champion\", \"1\")\n",
    "\n",
    "# Reassign the champion alias to version 2\n",
    "client.set_registered_model_alias(\"sk-learn-random-forest-reg-model\", \"Champion\", \"2\")\n",
    "\n",
    "# Get model version by alias\n",
    "champion_model = client.get_model_version_by_alias(\"sk-learn-random-forest-reg-model\", \"Champion\")\n",
    "print(champion_model)\n",
    "\n",
    "# Delete the alias\n",
    "client.delete_registered_model_alias(\"sk-learn-random-forest-reg-model\", \"Champion\")"
   ]
  },
  {
   "cell_type": "code",
   "execution_count": null,
   "id": "4928c3a3-623b-4ed4-bcdc-f8c6a3972dc1",
   "metadata": {},
   "outputs": [],
   "source": [
    "# This demonstrates how to set and delete tags using the MLflow Client API\n",
    "from mlflow import MlflowClient\n",
    "\n",
    "client = MlflowClient()\n",
    "\n",
    "# Set registered model tag\n",
    "client.set_registered_model_tag(\"sk-learn-random-forest-reg-model\", \"task\", \"classification\")\n",
    "\n",
    "# Get registered models with the task: classification tag\n",
    "classification_models = client.search_registered_models(\n",
    "    filter_string=\"tags.`task` = 'classification'\"\n",
    ")\n",
    "print(classification_models)\n",
    "\n",
    "# Delete the registered model tag\n",
    "client.delete_registered_model_tag(\"sk-learn-random-forest-reg-model\", \"task\")\n",
    "\n",
    "# Check the search no longer returns any registered models\n",
    "classification_models = client.search_registered_models(\n",
    "    filter_string=\"tags.`task` = 'classification'\"\n",
    ")\n",
    "print(classification_models)\n",
    "\n",
    "# Set model version tag\n",
    "client.set_model_version_tag(\"sk-learn-random-forest-reg-model\", \"1\", \"validation_status\", \"approved\")\n",
    "\n",
    "# Get model versions with validation_status: approved tag\n",
    "approved_models = client.search_model_versions(\n",
    "     filter_string=\"tags.`validation_status` = 'approved'\"   \n",
    ")\n",
    "print(approved_models)"
   ]
  },
  {
   "cell_type": "code",
   "execution_count": null,
   "id": "d3670bc9-c424-4278-98e2-f3f6d703b5a3",
   "metadata": {
    "tags": []
   },
   "outputs": [],
   "source": [
    "# This demonstrates how to fetch a specific model version\n",
    "# You simply supply the version number as part of the model URI\n",
    "import mlflow.pyfunc\n",
    "\n",
    "model_name = \"sk-learn-random-forest-reg-model\"\n",
    "model_version = 1\n",
    "\n",
    "# Get the model object\n",
    "from mlflow import MlflowClient\n",
    "mv1 = MlflowClient().get_model_version(model_name, model_version)\n",
    "print(mv1.source)\n",
    "\n",
    "# Using mlflow-artifacts: cause the client to download from the tracking server\n",
    "model = mlflow.pyfunc.load_model(model_uri=mv1.source)\n",
    "print(model)"
   ]
  },
  {
   "cell_type": "code",
   "execution_count": null,
   "id": "f4d1721b-1653-407e-a869-1ecf46c60f66",
   "metadata": {
    "tags": []
   },
   "outputs": [],
   "source": [
    "# Use the model to make predictions\n",
    "from sklearn.datasets import make_regression\n",
    "data, _ = make_regression(n_features=4, n_informative=2, random_state=0, shuffle=False)\n",
    "\n",
    "model.predict(data)"
   ]
  },
  {
   "cell_type": "code",
   "execution_count": null,
   "id": "f8e2c54d-6242-4df2-a354-abff4fbdeff0",
   "metadata": {},
   "outputs": [],
   "source": []
  }
 ],
 "metadata": {
  "kernelspec": {
   "display_name": "Python 3.11.4",
   "language": "python",
   "name": "python3-11"
  },
  "language_info": {
   "codemirror_mode": {
    "name": "ipython",
    "version": 3
   },
   "file_extension": ".py",
   "mimetype": "text/x-python",
   "name": "python",
   "nbconvert_exporter": "python",
   "pygments_lexer": "ipython3",
   "version": "3.11.4"
  }
 },
 "nbformat": 4,
 "nbformat_minor": 5
}
